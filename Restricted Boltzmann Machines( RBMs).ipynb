{
 "cells": [
  {
   "cell_type": "markdown",
   "id": "71650d7c",
   "metadata": {},
   "source": [
    "Creating a full-fledged recommendation system with a graphical user interface (GUI) involves several steps and components, including data preprocessing, model training, user interaction, and GUI development. Here's a high-level guide to creating a recommendation system using a built-in RBM implementation, Python's Tkinter library for GUI, and a synthetic dataset:\n",
    "\n"
   ]
  },
  {
   "cell_type": "markdown",
   "id": "d8904ec8",
   "metadata": {},
   "source": [
    "# Step 1: Data Preprocessing\n",
    "\n",
    "Load your dataset: For this example, let's create a synthetic dataset with user-item interactions and ratings."
   ]
  },
  {
   "cell_type": "code",
   "execution_count": 2,
   "id": "07e5148e",
   "metadata": {},
   "outputs": [],
   "source": [
    "import pandas as pd\n",
    "import numpy as np\n",
    "import tensorflow as tf\n",
    "# Create a synthetic user-item interaction matrix\n",
    "num_users = 100\n",
    "num_items = 50\n",
    "\n",
    "user_item_matrix = np.random.randint(0, 6, size=(num_users, num_items))\n",
    "\n",
    "data = []\n",
    "for user_id, ratings in enumerate(user_item_matrix):\n",
    "    for item_id, rating in enumerate(ratings):\n",
    "        data.append((user_id, item_id, rating))\n",
    "\n",
    "data = pd.DataFrame(data, columns=['user', 'item', 'rating'])"
   ]
  },
  {
   "cell_type": "code",
   "execution_count": 3,
   "id": "471669ad",
   "metadata": {},
   "outputs": [
    {
     "data": {
      "image/png": "[encoded data removed]",
      "text/plain": [
       "<Figure size 720x432 with 1 Axes>"
      ]
     },
     "metadata": {
      "needs_background": "light"
     },
     "output_type": "display_data"
    }
   ],
   "source": [
    "import matplotlib.pyplot as plt\n",
    "user_0_interactions = data[data['user'] == 0]\n",
    "\n",
    "# Visualize interactions using a bar chart\n",
    "plt.figure(figsize=(10, 6))\n",
    "plt.bar(user_0_interactions['item'], user_0_interactions['rating'])\n",
    "plt.xlabel('Item ID')\n",
    "plt.ylabel('Rating')\n",
    "plt.title('User 0 Interactions with Items')\n",
    "plt.xticks(range(num_items))\n",
    "plt.show()"
   ]
  },
  {
   "cell_type": "markdown",
   "id": "a5b32a86",
   "metadata": {},
   "source": [
    "# Step 2: Train the RBM\n",
    "\n",
    "Use TensorFlow's built-in RBM implementation for training:"
   ]
  },
  {
   "cell_type": "code",
   "execution_count": 4,
   "id": "2878923b",
   "metadata": {},
   "outputs": [
    {
     "name": "stdout",
     "output_type": "stream",
     "text": [
      "RBM Training Complete!\n"
     ]
    }
   ],
   "source": [
    "# Preprocessing: Convert data to user-item matrix\n",
    "user_item_matrix = data.pivot(index='user', columns='item', values='rating').fillna(0)\n",
    "user_item_matrix = user_item_matrix.values.astype(np.float32)\n",
    "\n",
    "# RBM Implementation using Keras layers\n",
    "class RBM(tf.keras.layers.Layer):\n",
    "    def __init__(self, num_hidden, **kwargs):\n",
    "        super(RBM, self).__init__(**kwargs)\n",
    "        self.num_hidden = num_hidden\n",
    "\n",
    "    def build(self, input_shape):\n",
    "        self.W = self.add_weight(name='W', shape=(input_shape[-1], self.num_hidden), initializer='random_normal', trainable=True)\n",
    "        self.visible_bias = self.add_weight(name='visible_bias', shape=(input_shape[-1],), initializer='zeros', trainable=True)\n",
    "        self.hidden_bias = self.add_weight(name='hidden_bias', shape=(self.num_hidden,), initializer='zeros', trainable=True)\n",
    "\n",
    "    def call(self, inputs):\n",
    "      inputs_reshaped = tf.expand_dims(inputs, axis=0)  # Reshape input to (1, num_visible)\n",
    "    \n",
    "      hidden_prob = tf.nn.sigmoid(tf.matmul(inputs_reshaped, self.W) + self.hidden_bias)\n",
    "      visible_prob = tf.nn.sigmoid(tf.matmul(hidden_prob, tf.transpose(self.W)) + self.visible_bias)\n",
    "    \n",
    "      return hidden_prob, visible_prob\n",
    "\n",
    "\n",
    "# Create an instance of RBM\n",
    "rbm = RBM(num_hidden=100)\n",
    "optimizer = tf.keras.optimizers.Adam(learning_rate=0.01)\n",
    "\n",
    "# Example training loop (requires more steps and fine-tuning)\n",
    "num_epochs = 10\n",
    "for epoch in range(num_epochs):\n",
    "    for user_ratings in user_item_matrix:\n",
    "        with tf.GradientTape() as tape:\n",
    "            _, reconstructed_ratings = rbm(user_ratings)\n",
    "            loss = tf.reduce_mean(tf.square(user_ratings - reconstructed_ratings))\n",
    "        gradients = tape.gradient(loss, rbm.trainable_variables)\n",
    "        optimizer.apply_gradients(zip(gradients, rbm.trainable_variables))\n",
    "\n",
    "print(\"RBM Training Complete!\")\n"
   ]
  },
  {
   "cell_type": "markdown",
   "id": "4b4c2321",
   "metadata": {},
   "source": [
    "# Step 3: GUI Development\n",
    "\n",
    "Use Tkinter to create a simple GUI for interaction:"
   ]
  },
  {
   "cell_type": "code",
   "execution_count": 11,
   "id": "2456cafc",
   "metadata": {},
   "outputs": [],
   "source": [
    "import tkinter as tk\n",
    "\n",
    "class RecommendationGUI:\n",
    "    def __init__(self, root, rbm_model, user_item_matrix):\n",
    "        self.root = root\n",
    "        self.rbm_model = rbm_model\n",
    "        self.user_item_matrix = user_item_matrix\n",
    "\n",
    "        self.label = tk.Label(root, text=\"Enter User ID:\")\n",
    "        self.label.pack()\n",
    "\n",
    "        self.user_id_entry = tk.Entry(root)\n",
    "        self.user_id_entry.pack()\n",
    "\n",
    "        self.recommend_button = tk.Button(root, text=\"Get Recommendations\", command=self.get_recommendations)\n",
    "        self.recommend_button.pack()\n",
    "\n",
    "        self.recommendations_label = tk.Label(root, text=\"\")\n",
    "        self.recommendations_label.pack()\n",
    "    def get_recommendations(self):\n",
    "        user_id = int(self.user_id_entry.get())\n",
    "        user_ratings = self.user_item_matrix[user_id:user_id+1]\n",
    "\n",
    "        _, reconstructed_ratings = self.rbm_model(user_ratings)  # Call your RBM's call method\n",
    "\n",
    "        recommendations = np.argsort(-reconstructed_ratings.numpy())[0]\n",
    "        recommended_items = \", \".join(map(str, recommendations))\n",
    "        \n",
    "        self.recommendations_label.config(text=f\"Recommended Items: {recommended_items}\")\n",
    "\n",
    "# Create the Tkinter GUI\n",
    "root = tk.Tk()\n",
    "gui = RecommendationGUI(root, rbm, user_item_matrix)\n",
    "root.mainloop()"
   ]
  },
  {
   "cell_type": "markdown",
   "id": "bcf93dd3",
   "metadata": {},
   "source": [
    "# Step 4: Run the GUI Application\n",
    "\n",
    "Run the Python script with the GUI code. The GUI will allow you to input a user ID and receive recommended items based on the RBM model's predictions.\n",
    "\n",
    "Please note that this example provides a basic GUI using Tkinter and a simple RBM model. A real-life recommendation system might require more advanced techniques, data preprocessing, evaluation, and deployment considerations. Additionally, creating a more polished GUI might involve using more specialized GUI libraries."
   ]
  },
  {
   "cell_type": "markdown",
   "id": "9f2d8e52",
   "metadata": {},
   "source": [
    "### "
   ]
  }
 ],
 "metadata": {
  "kernelspec": {
   "display_name": "Python 3 (ipykernel)",
   "language": "python",
   "name": "python3"
  },
  "language_info": {
   "codemirror_mode": {
    "name": "ipython",
    "version": 3
   },
   "file_extension": ".py",
   "mimetype": "text/x-python",
   "name": "python",
   "nbconvert_exporter": "python",
   "pygments_lexer": "ipython3",
   "version": "3.9.12"
  }
 },
 "nbformat": 4,
 "nbformat_minor": 5
}
